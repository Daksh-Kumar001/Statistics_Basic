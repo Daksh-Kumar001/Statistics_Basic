{
 "cells": [
  {
   "cell_type": "raw",
   "id": "e1ace0db-100f-44a4-8d24-9ab9230bd6da",
   "metadata": {},
   "source": [
    " QUESTION- 1. Explain the different types of data (qualitative and quantitative) and provide examples of each. Discuss \n",
    "nominal, ordinal, interval, and ratio scales."
   ]
  },
  {
   "cell_type": "code",
   "execution_count": null,
   "id": "f4a070d7-0bca-448c-8507-0a1edab53804",
   "metadata": {},
   "outputs": [],
   "source": [
    "ANSWER-\n",
    "Qualitative Data (Categorical): Describes attributes or characteristics that cannot be measured numerically.\n",
    "    Examples: Colors of cars, types of cuisine, gender.\n",
    "\n",
    "Quantitative Data (Numerical): Data that can be measured and expressed numerically.\n",
    "    Examples: Height, weight, age.\n",
    "-Scales of Measurement:\n",
    "\n",
    "1)Nominal: Categories without any order.\n",
    "Example: Colors (red, blue, green).\n",
    "\n",
    "2)Ordinal: Categories with a meaningful order but no fixed difference.\n",
    "Example: Education level (high school, undergraduate, graduate).\n",
    "\n",
    "3)Interval: Numeric scales where the difference between values is meaningful, but there’s no true zero.\n",
    "Example: Temperature in Celsius.\n",
    "\n",
    "4)Ratio: Similar to interval but has a true zero point.\n",
    "Example: Height, weight."
   ]
  },
  {
   "cell_type": "raw",
   "id": "11d748fa-3a9b-471f-9bcc-5f55ba62d01b",
   "metadata": {},
   "source": [
    " QUESTION- 2. What are the measures of central tendency, and when should you use each? Discuss the mean, median, \n",
    "and mode with examples and situations where each is appropriate."
   ]
  },
  {
   "cell_type": "code",
   "execution_count": 5,
   "id": "eb728957-2f5a-4e58-9fc1-233fc781ec17",
   "metadata": {},
   "outputs": [
    {
     "name": "stdout",
     "output_type": "stream",
     "text": [
      "{3.0} {3.0} {ModeResult(mode=3, count=3)}\n"
     ]
    }
   ],
   "source": [
    " ANSWER- \n",
    "# 1)Mean: The average. Use when the data is symmetric and there are no outliers.\n",
    "# Example: Average test score.\n",
    "# 2)Median: The middle value. Use when data is skewed or has outliers.\n",
    "# Example: Median income in a region.\n",
    "# 3)Mode: The most frequent value. Use when identifying the most common item.\n",
    "# Example: Most common shoe size sold.\n",
    "\n",
    "# Example code\n",
    "\n",
    "import numpy as np\n",
    "from scipy import stats\n",
    "\n",
    "data = [1, 2, 2, 3, 3, 3, 4, 4, 5]\n",
    "\n",
    "mean = np.mean(data)\n",
    "median = np.median(data)\n",
    "mode = stats.mode(data)\n",
    "print({mean}, {median}, {mode})"
   ]
  },
  {
   "cell_type": "raw",
   "id": "bbaee3bd-8aec-47b8-93be-6d2078b13962",
   "metadata": {},
   "source": [
    "QUESTION- 3. Explain the concept of dispersion. How do variance and standard deviation measure the spread of data?"
   ]
  },
  {
   "cell_type": "code",
   "execution_count": 12,
   "id": "d39f5abf-9cf1-4c02-ba7c-0834ceb7f805",
   "metadata": {},
   "outputs": [
    {
     "name": "stdout",
     "output_type": "stream",
     "text": [
      "1.3333333333333333 1.1547005383792515\n"
     ]
    }
   ],
   "source": [
    " ANSWER- \n",
    "# 1)Dispersion: Refers to the spread of data points.\n",
    "# Variance: Measures how far data points are from the mean, squared.\n",
    "# 2)Standard Deviation: The square root of the variance. Indicates the spread in the same units as the data.\n",
    "# Example: A higher standard deviation means more variability in the data.\n",
    "\n",
    "data = [1, 2, 2, 3, 3, 3, 4, 4, 5]\n",
    "\n",
    "variance = np.var(data)\n",
    "std_dev = np.std(data)\n",
    "\n",
    "print(variance, std_dev)"
   ]
  },
  {
   "cell_type": "raw",
   "id": "8a0dbb27-38c5-4710-931d-c84d9a14b2f5",
   "metadata": {},
   "source": [
    "QUESTION- 4. What is a box plot, and what can it tell you about the distribution of data?"
   ]
  },
  {
   "cell_type": "code",
   "execution_count": 13,
   "id": "c567d4a1-3c3b-4f4d-8552-5ab94cafcc22",
   "metadata": {},
   "outputs": [
    {
     "data": {
      "image/png": "[encoded data removed]",
      "text/plain": [
       "<Figure size 640x480 with 1 Axes>"
      ]
     },
     "metadata": {},
     "output_type": "display_data"
    }
   ],
   "source": [
    " ANSWER- \n",
    "# A box plot shows the distribution of data through quartiles. It displays:\n",
    "# Minimum = Q0: The lowest value.\n",
    "# Q1: 25th percentile.\n",
    "# Median = Q2: 50th percentile.\n",
    "# Q3: 75th percentile.\n",
    "# Maximum = Q4: The highest value. It helps identify outliers and the skewness of the data.\n",
    "\n",
    "import matplotlib.pyplot as plt\n",
    "import seaborn as sns\n",
    "\n",
    "sns.boxplot(data=data)\n",
    "plt.show()"
   ]
  },
  {
   "cell_type": "raw",
   "id": "d59e8018-5f6f-4807-8e6e-845ed1ab03f6",
   "metadata": {},
   "source": [
    "QUESTION- 5. Discuss the role of random sampling in making inferences about populations."
   ]
  },
  {
   "cell_type": "code",
   "execution_count": 21,
   "id": "59b04855-1b83-4dbc-9411-1ca9066fff7c",
   "metadata": {},
   "outputs": [
    {
     "name": "stdout",
     "output_type": "stream",
     "text": [
      "Random Sample: [87, 30, 86, 62, 20, 97, 64, 67, 6, 95]\n"
     ]
    }
   ],
   "source": [
    " ANSWER- \n",
    "# Random sampling involves selecting participants randomly from a population to make inferences about the whole group.\n",
    "# It ensures each individual has an equal chance of being selected, which helps avoid bias.\n",
    "\n",
    "import random \n",
    "\n",
    "population = list(range(1,101))  # Example population from 1 to 100\n",
    "sample = random.sample(population, 10) # Sample size of 10\n",
    "\n",
    "print(f\"Random Sample: {sample}\")"
   ]
  },
  {
   "cell_type": "raw",
   "id": "2775972f-040e-466b-bc61-c9eb15193887",
   "metadata": {},
   "source": [
    " QUESTION- 6. Explain the concept of skewness and its types. How does skewness affect the interpretation of data?"
   ]
  },
  {
   "cell_type": "code",
   "execution_count": 33,
   "id": "d3c60b3a-693f-45f7-8d97-5dae702e81d9",
   "metadata": {},
   "outputs": [
    {
     "name": "stdout",
     "output_type": "stream",
     "text": [
      "Skewness: 0.024889970401965642\n"
     ]
    }
   ],
   "source": [
    " ANSWER-\n",
    "# Skewness refers to the asymmetry of a data distribution.\n",
    "\n",
    "# Positive Skew: Tail on the right (longer right tail).\n",
    "# Negative Skew: Tail on the left (longer left tail). \n",
    "\n",
    "# Skewness affects the interpretation of data by making measures of central tendency (like the mean) unreliable if the data is highly skewed.\n",
    "\n",
    "from scipy.stats import skew\n",
    "\n",
    "skewness = skew(data)\n",
    "print(f\"Skewness: {skewness}\")"
   ]
  },
  {
   "cell_type": "raw",
   "id": "6d52a3ad-ec60-4650-96ec-060f5fa33a3e",
   "metadata": {},
   "source": [
    "QUESTION- 7. What is the interquartile range (IQR), and how is it used to detect outliers?"
   ]
  },
  {
   "cell_type": "code",
   "execution_count": 27,
   "id": "b0f7df2f-99b2-4158-96a0-3b6cfcf1f5c2",
   "metadata": {},
   "outputs": [
    {
     "name": "stdout",
     "output_type": "stream",
     "text": [
      "IQR: 2.0, Outliers: []\n"
     ]
    }
   ],
   "source": [
    " ANSWER- \n",
    "# IQR: The range between the first (Q1) and third quartile (Q3). It represents the middle 50% of the data.\n",
    "# Outliers: Values that are significantly higher or lower than most other data points, often determined by any value outside of Q1-1.5*IQR and Q3+1.5*IQR\n",
    "\n",
    "Q1 = np.percentile(data, 25)\n",
    "Q3 = np.percentile(data, 75)\n",
    "IQR = Q3 - Q1\n",
    "\n",
    "# Outliers detection\n",
    "outliers = [x for x in data if x < (Q1 - 1.5 * IQR) or x > (Q3 + 1.5 * IQR)]\n",
    "print(f\"IQR: {IQR}, Outliers: {outliers}\")"
   ]
  },
  {
   "cell_type": "raw",
   "id": "4285cbad-d28c-4367-a0d8-cadf51fc2349",
   "metadata": {},
   "source": [
    "QUESTION- 8. Discuss the conditions under which the binomial distribution is used."
   ]
  },
  {
   "cell_type": "code",
   "execution_count": 28,
   "id": "3917f3dc-df67-4c52-b8c0-945b8eded52a",
   "metadata": {},
   "outputs": [
    {
     "name": "stdout",
     "output_type": "stream",
     "text": [
      "Binomial Probability: 0.1171875\n"
     ]
    }
   ],
   "source": [
    " ANSWER-  Binomial Distribution Conditions Used when:\n",
    "# 1)There are exactly two possible outcomes (success or failure).\n",
    "# 2)The probability of success is constant.\n",
    "# 3)Each trial is independent.\n",
    "# 4)The number of trials is fixed.\n",
    "\n",
    "from scipy.stats import binom\n",
    "\n",
    "# Probability of exactly 3 successes in 10 trials with probability 0.5\n",
    "prob = binom.pmf(3, 10, 0.5)\n",
    "print(f\"Binomial Probability: {prob}\")"
   ]
  },
  {
   "cell_type": "raw",
   "id": "4a640d0a-b3e0-459b-98b6-6f1e77003cca",
   "metadata": {},
   "source": [
    "QUESTION- 9. Explain the properties of the normal distribution and the empirical rule (68-95-99.7 rule)."
   ]
  },
  {
   "cell_type": "code",
   "execution_count": 29,
   "id": "dd5d6214-6765-4889-8bde-924bea57d2aa",
   "metadata": {},
   "outputs": [
    {
     "data": {
      "image/png": "[encoded data removed]",
      "text/plain": [
       "<Figure size 640x480 with 1 Axes>"
      ]
     },
     "metadata": {},
     "output_type": "display_data"
    },
    {
     "name": "stdout",
     "output_type": "stream",
     "text": [
      "68-95-99.7 Rule: \n",
      "68% within -1.0049238407497258 and 1.0536190916163057\n",
      "95% within -2.0341953069327414 and 2.0828905577993218\n",
      "99.7% within -3.063466773115757 and 3.1121620239823375\n"
     ]
    }
   ],
   "source": [
    " ANSWER- \n",
    "# Normal Distribution: A bell-shaped curve where most data points cluster around the mean.\n",
    "# Empirical Rule (68-95-99.7 Rule):\n",
    "# 68% of data falls within 1 standard deviation.\n",
    "# 95% within 2 standard deviations.\n",
    "# 99.7% within 3 standard deviations.\n",
    "\n",
    "import numpy as np\n",
    "import matplotlib.pyplot as plt\n",
    "\n",
    "# Simulate a normal distribution\n",
    "data = np.random.normal(loc=0, scale=1, size=1000)\n",
    "\n",
    "# Plotting the distribution\n",
    "plt.hist(data, bins=30, edgecolor='black')\n",
    "plt.show()\n",
    "\n",
    "# Applying the empirical rule\n",
    "mean = np.mean(data)\n",
    "std_dev = np.std(data)\n",
    "print(f\"68-95-99.7 Rule: \\n68% within {mean-std_dev} and {mean+std_dev}\\n95% within {mean-2*std_dev} and {mean+2*std_dev}\\n99.7% within {mean-3*std_dev} and {mean+3*std_dev}\")"
   ]
  },
  {
   "cell_type": "raw",
   "id": "3a4ccf73-1d2a-4b4b-a582-6c2c6c0ed594",
   "metadata": {},
   "source": [
    "QUESTION- 10. Provide a real-life example of a Poisson process and calculate the probability for a specific event."
   ]
  },
  {
   "cell_type": "code",
   "execution_count": 30,
   "id": "cdc541ba-910b-4154-93c9-7864867b0696",
   "metadata": {},
   "outputs": [
    {
     "name": "stdout",
     "output_type": "stream",
     "text": [
      "Poisson Probability: 0.18044704431548356\n"
     ]
    }
   ],
   "source": [
    " ANSWER- \n",
    "# Poisson Process: A process where events occur independently and at a constant rate over time.\n",
    "# Example: The number of phone calls received at a call center per minute.\n",
    "# Probability calculation requires the rate of occurrence (λ) and the number of events (k).\n",
    "\n",
    "from scipy.stats import poisson\n",
    "\n",
    "# Probability of 3 events occurring in a time period when the average rate is 2\n",
    "prob = poisson.pmf(3, 2)\n",
    "print(f\"Poisson Probability: {prob}\")"
   ]
  },
  {
   "cell_type": "raw",
   "id": "467555f1-858c-4bc3-af66-6d136ad37b81",
   "metadata": {},
   "source": [
    "QUESTION- 11. Explain what a random variable is and differentiate between discrete and continuous random variables."
   ]
  },
  {
   "cell_type": "code",
   "execution_count": null,
   "id": "739b588f-9ef7-4387-bc7b-9c33007b45c6",
   "metadata": {},
   "outputs": [],
   "source": [
    " ANSWER- \n",
    "# Random Variable: A variable whose values depend on outcomes of a random event.\n",
    "# Discrete: Takes on a countable number of values.\n",
    "# Example: Number of students in a class.\n",
    "# Continuous: Takes on an infinite number of values within a given range.\n",
    "# Example: Height of students."
   ]
  },
  {
   "cell_type": "raw",
   "id": "bf77fc12-b611-49de-9690-7b6f3fd5b375",
   "metadata": {},
   "source": [
    "QUESTION- 12. Provide an example dataset, calculate both covariance and correlation, and interpret the results."
   ]
  },
  {
   "cell_type": "code",
   "execution_count": 32,
   "id": "ec24e59f-80b8-4a12-b688-e14b0eaf7f50",
   "metadata": {},
   "outputs": [
    {
     "name": "stdout",
     "output_type": "stream",
     "text": [
      "Covariance: -2.5, Correlation: -0.9999999999999999\n"
     ]
    }
   ],
   "source": [
    " #ANSWER- \n",
    "# Covariance: Measures the direction of the relationship between two variables. Positive covariance means they increase together.\n",
    "\n",
    "# Correlation: A normalized form of covariance that measures the strength and direction of the relationship.\n",
    "\n",
    "# Example datasets\n",
    "X = [1, 2, 3, 4, 5]\n",
    "Y = [5, 4, 3, 2, 1]\n",
    "\n",
    "# Covariance and Correlation\n",
    "cov = np.cov(X, Y)[0][1]\n",
    "corr = np.corrcoef(X, Y)[0][1]\n",
    "\n",
    "print(f\"Covariance: {cov}, Correlation: {corr}\")"
   ]
  }
 ],
 "metadata": {
  "kernelspec": {
   "display_name": "Python 3 (ipykernel)",
   "language": "python",
   "name": "python3"
  },
  "language_info": {
   "codemirror_mode": {
    "name": "ipython",
    "version": 3
   },
   "file_extension": ".py",
   "mimetype": "text/x-python",
   "name": "python",
   "nbconvert_exporter": "python",
   "pygments_lexer": "ipython3",
   "version": "3.12.7"
  }
 },
 "nbformat": 4,
 "nbformat_minor": 5
}
